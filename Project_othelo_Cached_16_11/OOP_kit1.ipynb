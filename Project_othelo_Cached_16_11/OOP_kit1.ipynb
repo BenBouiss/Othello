{
 "cells": [
  {
   "cell_type": "code",
   "execution_count": 1,
   "id": "44e900c3-f999-4ebf-b034-d0c1255d7f09",
   "metadata": {},
   "outputs": [],
   "source": [
    "import board_file\n",
    "import pawn_file\n",
    "import utils\n",
    "import Player_file\n",
    "import GUI\n",
    "import numpy as np\n",
    "%load_ext autoreload\n",
    "%autoreload 2"
   ]
  },
  {
   "cell_type": "code",
   "execution_count": 5,
   "metadata": {},
   "outputs": [],
   "source": [
    "Turn = 0\n",
    "Score = 2 * (-1 if Turn%2 !=0 else 1)"
   ]
  },
  {
   "cell_type": "code",
   "execution_count": 6,
   "metadata": {},
   "outputs": [
    {
     "data": {
      "text/plain": [
       "2"
      ]
     },
     "execution_count": 6,
     "metadata": {},
     "output_type": "execute_result"
    }
   ],
   "source": [
    "Score"
   ]
  },
  {
   "cell_type": "code",
   "execution_count": 2,
   "id": "21907f86",
   "metadata": {},
   "outputs": [
    {
     "data": {
      "text/plain": [
       "<module 'Player_file' from '/home/benjamin.bouissou@Digital-Grenoble.local/Documents/Git_repos_formation/Project_Othelo/Player_file.py'>"
      ]
     },
     "execution_count": 2,
     "metadata": {},
     "output_type": "execute_result"
    }
   ],
   "source": [
    "import importlib\n",
    "importlib.reload(board_file)\n",
    "importlib.reload(pawn_file)\n",
    "importlib.reload(utils)\n",
    "importlib.reload(Player_file)"
   ]
  },
  {
   "cell_type": "code",
   "execution_count": 12,
   "id": "9d50f8fe",
   "metadata": {},
   "outputs": [],
   "source": [
    "A = np.array([1,2,3,4,4,4,4, 5])\n",
    "mask_select = A==A.max()\n",
    "B = A[mask_select]"
   ]
  },
  {
   "cell_type": "code",
   "execution_count": 15,
   "id": "ab0ade84",
   "metadata": {},
   "outputs": [],
   "source": [
    "Scores = [(5, 4), (4, 5), (5, 5)]\n",
    "mask = [True, True, True]"
   ]
  },
  {
   "cell_type": "code",
   "execution_count": 18,
   "id": "ef468d2a",
   "metadata": {},
   "outputs": [
    {
     "ename": "ValueError",
     "evalue": "a must be 1-dimensional",
     "output_type": "error",
     "traceback": [
      "\u001b[0;31m---------------------------------------------------------------------------\u001b[0m",
      "\u001b[0;31mValueError\u001b[0m                                Traceback (most recent call last)",
      "\u001b[1;32m/home/benjamin.bouissou@Digital-Grenoble.local/Documents/Git_repos_formation/Project_Othelo/OOP_kit1.ipynb Cell 5\u001b[0m line \u001b[0;36m1\n\u001b[0;32m----> <a href='vscode-notebook-cell:/home/benjamin.bouissou%40Digital-Grenoble.local/Documents/Git_repos_formation/Project_Othelo/OOP_kit1.ipynb#X33sZmlsZQ%3D%3D?line=0'>1</a>\u001b[0m np\u001b[39m.\u001b[39mrandom\u001b[39m.\u001b[39mchoice(np\u001b[39m.\u001b[39marray(Scores)[mask], \u001b[39m1\u001b[39m)\n",
      "File \u001b[0;32mmtrand.pyx:930\u001b[0m, in \u001b[0;36mnumpy.random.mtrand.RandomState.choice\u001b[0;34m()\u001b[0m\n",
      "\u001b[0;31mValueError\u001b[0m: a must be 1-dimensional"
     ]
    }
   ],
   "source": [
    "np.random.choice(np.array(Scores)[mask], 1)"
   ]
  },
  {
   "cell_type": "code",
   "execution_count": 15,
   "id": "7cf1abeb",
   "metadata": {},
   "outputs": [
    {
     "name": "stdout",
     "output_type": "stream",
     "text": [
      "[[' ' ' ' ' ' ' ' ' ' ' ' ' ' ' ']\n",
      " [' ' ' ' ' ' ' ' ' ' ' ' ' ' ' ']\n",
      " [' ' ' ' ' ' ' ' ' ' ' ' ' ' ' ']\n",
      " [' ' ' ' ' ' <pawn_file.pawn object at 0x7f90fcfd9890>\n",
      "  <pawn_file.pawn object at 0x7f90fcbd1d90> ' ' ' ' ' ']\n",
      " [' ' ' ' ' ' <pawn_file.pawn object at 0x7f90ff65a3d0>\n",
      "  <pawn_file.pawn object at 0x7f90fcbe0650> ' ' ' ' ' ']\n",
      " [' ' ' ' ' ' ' ' ' ' ' ' ' ' ' ']\n",
      " [' ' ' ' ' ' ' ' ' ' ' ' ' ' ' ']\n",
      " [' ' ' ' ' ' ' ' ' ' ' ' ' ' ' ']]\n",
      "(3, 3)\n"
     ]
    }
   ],
   "source": [
    "Game_board = board_file.Board()\n",
    "Game_board.init_table()\n",
    "print(Game_board.board)\n",
    "print(utils.Convert_str_coord('D4'))"
   ]
  },
  {
   "cell_type": "code",
   "execution_count": 22,
   "id": "dd0f1338",
   "metadata": {},
   "outputs": [],
   "source": [
    "Player_list = []\n",
    "Player_list.append(Player_file.Joueur_humain('O'))\n",
    "Player_list.append(Player_file.Joueur_humain('X'))"
   ]
  },
  {
   "cell_type": "code",
   "execution_count": 23,
   "id": "cce4f109",
   "metadata": {},
   "outputs": [
    {
     "data": {
      "text/plain": [
       "<pawn_file.pawn at 0x7f31d9798310>"
      ]
     },
     "execution_count": 23,
     "metadata": {},
     "output_type": "execute_result"
    }
   ],
   "source": [
    "Game_board.board[3][3]"
   ]
  },
  {
   "cell_type": "code",
   "execution_count": 25,
   "id": "a07577ae",
   "metadata": {},
   "outputs": [
    {
     "data": {
      "text/plain": [
       "array([['', '', '', '', '', '', '', ''],\n",
       "       ['', '', '', '', '', '', '', ''],\n",
       "       ['', '', '', '', '', '', '', ''],\n",
       "       ['', '', '', 'X', 'O', '', '', ''],\n",
       "       ['', '', '', 'O', 'X', '', '', ''],\n",
       "       ['', '', '', '', '', '', '', ''],\n",
       "       ['', '', '', '', '', '', '', ''],\n",
       "       ['', '', '', '', '', '', '', '']], dtype='<U1')"
      ]
     },
     "execution_count": 25,
     "metadata": {},
     "output_type": "execute_result"
    }
   ],
   "source": [
    "Game_board.board"
   ]
  },
  {
   "cell_type": "code",
   "execution_count": 41,
   "id": "5e81843a",
   "metadata": {},
   "outputs": [
    {
     "data": {
      "text/plain": [
       "<module 'board_file' from '/home/benjamin.bouissou@Digital-Grenoble.local/Documents/Git_repos_formation/Project_Othelo/board_file.py'>"
      ]
     },
     "execution_count": 41,
     "metadata": {},
     "output_type": "execute_result"
    }
   ],
   "source": [
    "importlib.reload(GUI)\n",
    "importlib.reload(board_file)"
   ]
  },
  {
   "cell_type": "code",
   "execution_count": 42,
   "id": "6e8348f7",
   "metadata": {},
   "outputs": [
    {
     "name": "stdout",
     "output_type": "stream",
     "text": [
      "+---+---+---+---+---+---+---+---+---+\n",
      "|   |   |   |   |   |   |   |   |   | \n",
      "+---+---+---+---+---+---+---+---+---+\n",
      "|   |   |   |   |   |   |   |   |   | \n",
      "+---+---+---+---+---+---+---+---+---+\n",
      "|   |   |   |   |   |   |   |   |   | \n",
      "+---+---+---+---+---+---+---+---+---+\n",
      "|   |   |   | X | O |   |   |   |   | \n",
      "+---+---+---+---+---+---+---+---+---+\n",
      "|   |   |   | O | X |   |   |   |   | \n",
      "+---+---+---+---+---+---+---+---+---+\n",
      "|   |   |   |   |   |   |   |   |   | \n",
      "+---+---+---+---+---+---+---+---+---+\n",
      "|   |   |   |   |   |   |   |   |   | \n",
      "+---+---+---+---+---+---+---+---+---+\n",
      "|   |   |   |   |   |   |   |   |   | \n",
      "+---+---+---+---+---+---+---+---+---+\n"
     ]
    }
   ],
   "source": [
    "Game_board = board_file.Board()\n",
    "Game_board.init_table()\n",
    "gui = GUI.Gui()\n",
    "gui.Pretty_print(Game_board.board)"
   ]
  },
  {
   "cell_type": "code",
   "execution_count": 1,
   "id": "41206165",
   "metadata": {},
   "outputs": [],
   "source": [
    "def Convert_mouse_pos_x_y_to_ind(pos: tuple, CELL_WIDTH = 64, CELL_HEIGHT = 64):\n",
    "    x, y= pos\n",
    "    return x // CELL_WIDTH, y // CELL_HEIGHT\n"
   ]
  },
  {
   "cell_type": "code",
   "execution_count": 5,
   "id": "4aa4ddc4",
   "metadata": {},
   "outputs": [
    {
     "data": {
      "text/plain": [
       "(1, 0)"
      ]
     },
     "execution_count": 5,
     "metadata": {},
     "output_type": "execute_result"
    }
   ],
   "source": [
    "Convert_mouse_pos_x_y_to_ind((64, 32))"
   ]
  },
  {
   "cell_type": "code",
   "execution_count": 9,
   "id": "bd903c08",
   "metadata": {},
   "outputs": [],
   "source": [
    "A = [(-1,-1), (0,-1), (1, -1), (1,0),(1,1), (0,1), (-1,1), (-1,0), (-1,0)]"
   ]
  },
  {
   "cell_type": "code",
   "execution_count": 11,
   "id": "b5692ba9",
   "metadata": {},
   "outputs": [
    {
     "name": "stdout",
     "output_type": "stream",
     "text": [
      "(0, 1)\n",
      "(-1, -1)\n",
      "(-1, 1)\n",
      "(1, 1)\n",
      "(1, -1)\n",
      "(-1, 0)\n",
      "(1, 0)\n",
      "(0, -1)\n"
     ]
    }
   ],
   "source": [
    "for i in set(A):\n",
    "    print(i)"
   ]
  },
  {
   "cell_type": "code",
   "execution_count": 21,
   "id": "de279407",
   "metadata": {},
   "outputs": [],
   "source": [
    "A = Game_board.board.copy()"
   ]
  },
  {
   "cell_type": "code",
   "execution_count": 28,
   "id": "8d9df1d3",
   "metadata": {},
   "outputs": [],
   "source": [
    "B = np.where(A == ' ')"
   ]
  },
  {
   "cell_type": "code",
   "execution_count": 25,
   "id": "b075d46b",
   "metadata": {},
   "outputs": [],
   "source": [
    "A[0:5] = 'Ben'"
   ]
  },
  {
   "cell_type": "code",
   "execution_count": 26,
   "id": "e01904b4",
   "metadata": {},
   "outputs": [
    {
     "data": {
      "text/plain": [
       "array([['Ben', 'Ben', 'Ben', 'Ben', 'Ben', 'Ben', 'Ben', 'Ben'],\n",
       "       ['Ben', 'Ben', 'Ben', 'Ben', 'Ben', 'Ben', 'Ben', 'Ben'],\n",
       "       ['Ben', 'Ben', 'Ben', 'Ben', 'Ben', 'Ben', 'Ben', 'Ben'],\n",
       "       ['Ben', 'Ben', 'Ben', 'Ben', 'Ben', 'Ben', 'Ben', 'Ben'],\n",
       "       ['Ben', 'Ben', 'Ben', 'Ben', 'Ben', 'Ben', 'Ben', 'Ben'],\n",
       "       [' ', ' ', ' ', ' ', ' ', ' ', ' ', ' '],\n",
       "       [' ', ' ', ' ', ' ', ' ', ' ', ' ', ' '],\n",
       "       [' ', ' ', ' ', ' ', ' ', ' ', ' ', ' ']], dtype=object)"
      ]
     },
     "execution_count": 26,
     "metadata": {},
     "output_type": "execute_result"
    }
   ],
   "source": [
    "A"
   ]
  },
  {
   "cell_type": "code",
   "execution_count": 1,
   "id": "51566543",
   "metadata": {},
   "outputs": [],
   "source": [
    "A = [(2, 2), (2, 4), (4, 2)]"
   ]
  },
  {
   "cell_type": "code",
   "execution_count": 2,
   "id": "b6dbadfb",
   "metadata": {},
   "outputs": [],
   "source": [
    "import numpy as np"
   ]
  },
  {
   "cell_type": "code",
   "execution_count": 11,
   "id": "c921a84a",
   "metadata": {},
   "outputs": [
    {
     "ename": "ValueError",
     "evalue": "a must be 1-dimensional",
     "output_type": "error",
     "traceback": [
      "\u001b[0;31m---------------------------------------------------------------------------\u001b[0m",
      "\u001b[0;31mValueError\u001b[0m                                Traceback (most recent call last)",
      "\u001b[1;32m/home/benjamin.bouissou@Digital-Grenoble.local/Documents/Git_repos_formation/Project_Othelo/OOP_kit1.ipynb Cell 19\u001b[0m line \u001b[0;36m1\n\u001b[0;32m----> <a href='vscode-notebook-cell:/home/benjamin.bouissou%40Digital-Grenoble.local/Documents/Git_repos_formation/Project_Othelo/OOP_kit1.ipynb#X24sZmlsZQ%3D%3D?line=0'>1</a>\u001b[0m np\u001b[39m.\u001b[39mrandom\u001b[39m.\u001b[39mchoice(np\u001b[39m.\u001b[39marray(A), \u001b[39m2\u001b[39m, p \u001b[39m=\u001b[39m \u001b[39mNone\u001b[39;00m)\n",
      "File \u001b[0;32mmtrand.pyx:930\u001b[0m, in \u001b[0;36mnumpy.random.mtrand.RandomState.choice\u001b[0;34m()\u001b[0m\n",
      "\u001b[0;31mValueError\u001b[0m: a must be 1-dimensional"
     ]
    }
   ],
   "source": [
    "np.random.choice(np.array(A), 2, p = None)"
   ]
  },
  {
   "cell_type": "code",
   "execution_count": 18,
   "id": "df0f5e7f",
   "metadata": {},
   "outputs": [
    {
     "data": {
      "text/plain": [
       "2"
      ]
     },
     "execution_count": 18,
     "metadata": {},
     "output_type": "execute_result"
    }
   ],
   "source": []
  },
  {
   "cell_type": "code",
   "execution_count": 7,
   "id": "24f8048d",
   "metadata": {},
   "outputs": [
    {
     "data": {
      "text/plain": [
       "[(2, 2), (2, 4), (4, 2)]"
      ]
     },
     "execution_count": 7,
     "metadata": {},
     "output_type": "execute_result"
    }
   ],
   "source": [
    "A"
   ]
  },
  {
   "cell_type": "code",
   "execution_count": null,
   "id": "276c92c2",
   "metadata": {},
   "outputs": [],
   "source": []
  }
 ],
 "metadata": {
  "kernelspec": {
   "display_name": "Root_clone",
   "language": "python",
   "name": "python3"
  },
  "language_info": {
   "codemirror_mode": {
    "name": "ipython",
    "version": 3
   },
   "file_extension": ".py",
   "mimetype": "text/x-python",
   "name": "python",
   "nbconvert_exporter": "python",
   "pygments_lexer": "ipython3",
   "version": "3.7.10"
  },
  "vscode": {
   "interpreter": {
    "hash": "34fd5a7994d941b4322b5903fccd76878f06dc7767d9437a23951ccc44ea67d5"
   }
  }
 },
 "nbformat": 4,
 "nbformat_minor": 5
}
