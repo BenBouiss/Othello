{
 "cells": [
  {
   "cell_type": "code",
   "execution_count": 19,
   "id": "44e900c3-f999-4ebf-b034-d0c1255d7f09",
   "metadata": {},
   "outputs": [
    {
     "name": "stdout",
     "output_type": "stream",
     "text": [
      "The autoreload extension is already loaded. To reload it, use:\n",
      "  %reload_ext autoreload\n"
     ]
    }
   ],
   "source": [
    "import board_file\n",
    "import pawn_file\n",
    "import utils\n",
    "import Player_file\n",
    "import GUI\n",
    "import numpy as np\n",
    "%load_ext autoreload\n",
    "%autoreload 2"
   ]
  },
  {
   "cell_type": "code",
   "execution_count": 14,
   "id": "21907f86",
   "metadata": {},
   "outputs": [
    {
     "data": {
      "text/plain": [
       "<module 'Player_file' from '/home/benjamin.bouissou@Digital-Grenoble.local/Documents/Git_repos_formation/Project_Othelo/Player_file.py'>"
      ]
     },
     "execution_count": 14,
     "metadata": {},
     "output_type": "execute_result"
    }
   ],
   "source": [
    "import importlib\n",
    "importlib.reload(board_file)\n",
    "importlib.reload(pawn_file)\n",
    "importlib.reload(utils)\n",
    "importlib.reload(Player_file)"
   ]
  },
  {
   "cell_type": "code",
   "execution_count": 15,
   "id": "7cf1abeb",
   "metadata": {},
   "outputs": [
    {
     "name": "stdout",
     "output_type": "stream",
     "text": [
      "[[' ' ' ' ' ' ' ' ' ' ' ' ' ' ' ']\n",
      " [' ' ' ' ' ' ' ' ' ' ' ' ' ' ' ']\n",
      " [' ' ' ' ' ' ' ' ' ' ' ' ' ' ' ']\n",
      " [' ' ' ' ' ' <pawn_file.pawn object at 0x7f90fcfd9890>\n",
      "  <pawn_file.pawn object at 0x7f90fcbd1d90> ' ' ' ' ' ']\n",
      " [' ' ' ' ' ' <pawn_file.pawn object at 0x7f90ff65a3d0>\n",
      "  <pawn_file.pawn object at 0x7f90fcbe0650> ' ' ' ' ' ']\n",
      " [' ' ' ' ' ' ' ' ' ' ' ' ' ' ' ']\n",
      " [' ' ' ' ' ' ' ' ' ' ' ' ' ' ' ']\n",
      " [' ' ' ' ' ' ' ' ' ' ' ' ' ' ' ']]\n",
      "(3, 3)\n"
     ]
    }
   ],
   "source": [
    "Game_board = board_file.Board()\n",
    "Game_board.init_table()\n",
    "print(Game_board.board)\n",
    "print(utils.Convert_str_coord('D4'))"
   ]
  },
  {
   "cell_type": "code",
   "execution_count": 22,
   "id": "dd0f1338",
   "metadata": {},
   "outputs": [],
   "source": [
    "Player_list = []\n",
    "Player_list.append(Player_file.Joueur_humain('O'))\n",
    "Player_list.append(Player_file.Joueur_humain('X'))"
   ]
  },
  {
   "cell_type": "code",
   "execution_count": 23,
   "id": "cce4f109",
   "metadata": {},
   "outputs": [
    {
     "data": {
      "text/plain": [
       "<pawn_file.pawn at 0x7f31d9798310>"
      ]
     },
     "execution_count": 23,
     "metadata": {},
     "output_type": "execute_result"
    }
   ],
   "source": [
    "Game_board.board[3][3]"
   ]
  },
  {
   "cell_type": "code",
   "execution_count": 25,
   "id": "a07577ae",
   "metadata": {},
   "outputs": [
    {
     "data": {
      "text/plain": [
       "array([['', '', '', '', '', '', '', ''],\n",
       "       ['', '', '', '', '', '', '', ''],\n",
       "       ['', '', '', '', '', '', '', ''],\n",
       "       ['', '', '', 'X', 'O', '', '', ''],\n",
       "       ['', '', '', 'O', 'X', '', '', ''],\n",
       "       ['', '', '', '', '', '', '', ''],\n",
       "       ['', '', '', '', '', '', '', ''],\n",
       "       ['', '', '', '', '', '', '', '']], dtype='<U1')"
      ]
     },
     "execution_count": 25,
     "metadata": {},
     "output_type": "execute_result"
    }
   ],
   "source": [
    "Game_board.board"
   ]
  },
  {
   "cell_type": "code",
   "execution_count": 41,
   "id": "5e81843a",
   "metadata": {},
   "outputs": [
    {
     "data": {
      "text/plain": [
       "<module 'board_file' from '/home/benjamin.bouissou@Digital-Grenoble.local/Documents/Git_repos_formation/Project_Othelo/board_file.py'>"
      ]
     },
     "execution_count": 41,
     "metadata": {},
     "output_type": "execute_result"
    }
   ],
   "source": [
    "importlib.reload(GUI)\n",
    "importlib.reload(board_file)"
   ]
  },
  {
   "cell_type": "code",
   "execution_count": 42,
   "id": "6e8348f7",
   "metadata": {},
   "outputs": [
    {
     "name": "stdout",
     "output_type": "stream",
     "text": [
      "+---+---+---+---+---+---+---+---+---+\n",
      "|   |   |   |   |   |   |   |   |   | \n",
      "+---+---+---+---+---+---+---+---+---+\n",
      "|   |   |   |   |   |   |   |   |   | \n",
      "+---+---+---+---+---+---+---+---+---+\n",
      "|   |   |   |   |   |   |   |   |   | \n",
      "+---+---+---+---+---+---+---+---+---+\n",
      "|   |   |   | X | O |   |   |   |   | \n",
      "+---+---+---+---+---+---+---+---+---+\n",
      "|   |   |   | O | X |   |   |   |   | \n",
      "+---+---+---+---+---+---+---+---+---+\n",
      "|   |   |   |   |   |   |   |   |   | \n",
      "+---+---+---+---+---+---+---+---+---+\n",
      "|   |   |   |   |   |   |   |   |   | \n",
      "+---+---+---+---+---+---+---+---+---+\n",
      "|   |   |   |   |   |   |   |   |   | \n",
      "+---+---+---+---+---+---+---+---+---+\n"
     ]
    }
   ],
   "source": [
    "Game_board = board_file.Board()\n",
    "Game_board.init_table()\n",
    "gui = GUI.Gui()\n",
    "gui.Pretty_print(Game_board.board)"
   ]
  },
  {
   "cell_type": "code",
   "execution_count": 1,
   "id": "41206165",
   "metadata": {},
   "outputs": [],
   "source": [
    "def Convert_mouse_pos_x_y_to_ind(pos: tuple, CELL_WIDTH = 64, CELL_HEIGHT = 64):\n",
    "    x, y= pos\n",
    "    return x // CELL_WIDTH, y // CELL_HEIGHT\n"
   ]
  },
  {
   "cell_type": "code",
   "execution_count": 5,
   "id": "4aa4ddc4",
   "metadata": {},
   "outputs": [
    {
     "data": {
      "text/plain": [
       "(1, 0)"
      ]
     },
     "execution_count": 5,
     "metadata": {},
     "output_type": "execute_result"
    }
   ],
   "source": [
    "Convert_mouse_pos_x_y_to_ind((64, 32))"
   ]
  },
  {
   "cell_type": "code",
   "execution_count": 9,
   "id": "bd903c08",
   "metadata": {},
   "outputs": [],
   "source": [
    "A = [(-1,-1), (0,-1), (1, -1), (1,0),(1,1), (0,1), (-1,1), (-1,0), (-1,0)]"
   ]
  },
  {
   "cell_type": "code",
   "execution_count": 11,
   "id": "b5692ba9",
   "metadata": {},
   "outputs": [
    {
     "name": "stdout",
     "output_type": "stream",
     "text": [
      "(0, 1)\n",
      "(-1, -1)\n",
      "(-1, 1)\n",
      "(1, 1)\n",
      "(1, -1)\n",
      "(-1, 0)\n",
      "(1, 0)\n",
      "(0, -1)\n"
     ]
    }
   ],
   "source": [
    "for i in set(A):\n",
    "    print(i)"
   ]
  },
  {
   "cell_type": "code",
   "execution_count": 21,
   "id": "de279407",
   "metadata": {},
   "outputs": [],
   "source": [
    "A = Game_board.board.copy()"
   ]
  },
  {
   "cell_type": "code",
   "execution_count": 28,
   "id": "8d9df1d3",
   "metadata": {},
   "outputs": [],
   "source": [
    "B = np.where(A == ' ')"
   ]
  },
  {
   "cell_type": "code",
   "execution_count": 25,
   "id": "b075d46b",
   "metadata": {},
   "outputs": [],
   "source": [
    "A[0:5] = 'Ben'"
   ]
  },
  {
   "cell_type": "code",
   "execution_count": 26,
   "id": "e01904b4",
   "metadata": {},
   "outputs": [
    {
     "data": {
      "text/plain": [
       "array([['Ben', 'Ben', 'Ben', 'Ben', 'Ben', 'Ben', 'Ben', 'Ben'],\n",
       "       ['Ben', 'Ben', 'Ben', 'Ben', 'Ben', 'Ben', 'Ben', 'Ben'],\n",
       "       ['Ben', 'Ben', 'Ben', 'Ben', 'Ben', 'Ben', 'Ben', 'Ben'],\n",
       "       ['Ben', 'Ben', 'Ben', 'Ben', 'Ben', 'Ben', 'Ben', 'Ben'],\n",
       "       ['Ben', 'Ben', 'Ben', 'Ben', 'Ben', 'Ben', 'Ben', 'Ben'],\n",
       "       [' ', ' ', ' ', ' ', ' ', ' ', ' ', ' '],\n",
       "       [' ', ' ', ' ', ' ', ' ', ' ', ' ', ' '],\n",
       "       [' ', ' ', ' ', ' ', ' ', ' ', ' ', ' ']], dtype=object)"
      ]
     },
     "execution_count": 26,
     "metadata": {},
     "output_type": "execute_result"
    }
   ],
   "source": [
    "A"
   ]
  },
  {
   "cell_type": "code",
   "execution_count": 30,
   "id": "51566543",
   "metadata": {},
   "outputs": [
    {
     "name": "stdout",
     "output_type": "stream",
     "text": [
      "0 5\n",
      "1 5\n",
      "2 5\n",
      "3 5\n",
      "4 5\n",
      "5 5\n",
      "6 5\n",
      "7 5\n",
      "0 6\n",
      "1 6\n",
      "2 6\n",
      "3 6\n",
      "4 6\n",
      "5 6\n",
      "6 6\n",
      "7 6\n",
      "0 7\n",
      "1 7\n",
      "2 7\n",
      "3 7\n",
      "4 7\n",
      "5 7\n",
      "6 7\n",
      "7 7\n"
     ]
    }
   ],
   "source": [
    "xt, yt = B[1], B[0]\n",
    "for x, y in zip(xt, yt):\n",
    "    print(x,y)"
   ]
  },
  {
   "cell_type": "code",
   "execution_count": null,
   "id": "b6dbadfb",
   "metadata": {},
   "outputs": [],
   "source": []
  }
 ],
 "metadata": {
  "kernelspec": {
   "display_name": "Root_clone",
   "language": "python",
   "name": "python3"
  },
  "language_info": {
   "codemirror_mode": {
    "name": "ipython",
    "version": 3
   },
   "file_extension": ".py",
   "mimetype": "text/x-python",
   "name": "python",
   "nbconvert_exporter": "python",
   "pygments_lexer": "ipython3",
   "version": "3.11.4"
  },
  "vscode": {
   "interpreter": {
    "hash": "34fd5a7994d941b4322b5903fccd76878f06dc7767d9437a23951ccc44ea67d5"
   }
  }
 },
 "nbformat": 4,
 "nbformat_minor": 5
}
